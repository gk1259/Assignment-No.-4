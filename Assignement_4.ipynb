{
 "cells": [
  {
   "cell_type": "markdown",
   "id": "fa29ffe5-da30-41cb-8778-d280336cd46d",
   "metadata": {},
   "source": [
    "1. Which keyword is used to create a function? Create a function to return a list of odd numbers in the range of 1 to 25."
   ]
  },
  {
   "cell_type": "markdown",
   "id": "19420d0e-d8ee-4f2f-a015-3c345262eb3c",
   "metadata": {},
   "source": [
    "Ans : \n",
    "\n",
    "def keyword is used to create a function."
   ]
  },
  {
   "cell_type": "code",
   "execution_count": 53,
   "id": "ad39a3cf-ffdf-4a44-806b-0f27fb20c496",
   "metadata": {},
   "outputs": [
    {
     "data": {
      "text/plain": [
       "[1, 3, 5, 7, 9, 11, 13, 15, 17, 19, 21, 23]"
      ]
     },
     "execution_count": 53,
     "metadata": {},
     "output_type": "execute_result"
    }
   ],
   "source": [
    "def get_odd_num () :\n",
    "    a = range(1,25)\n",
    "    odd_num = []\n",
    "    \n",
    "    for i in a :\n",
    "        if i % 2 != 0 :\n",
    "            odd_num.append(i)\n",
    "    return odd_num\n",
    "                           \n",
    "get_odd_num()"
   ]
  },
  {
   "cell_type": "markdown",
   "id": "4f07b1f0-c3fd-4d3f-a3cf-1cc88cddde6b",
   "metadata": {},
   "source": [
    "2. Why *args and **kwargs is used in some functions? Create a function each for *args and **kwargs to demonstrate their use."
   ]
  },
  {
   "cell_type": "markdown",
   "id": "f97d5443-ea4d-47e2-9042-1140ff3c88e2",
   "metadata": {},
   "source": [
    "Ans : \n",
    "\n",
    "*args are used by the user to pass multiple values to the function which returns the data as tuple format."
   ]
  },
  {
   "cell_type": "code",
   "execution_count": 54,
   "id": "b51851a8-0ff2-4104-aef9-df0979e928f7",
   "metadata": {},
   "outputs": [
    {
     "data": {
      "text/plain": [
       "(5, [0, 1, 2, 3])"
      ]
     },
     "execution_count": 54,
     "metadata": {},
     "output_type": "execute_result"
    }
   ],
   "source": [
    "def fn(*args) :\n",
    "    return args\n",
    "\n",
    "fn(5, [i for i in range(4)])"
   ]
  },
  {
   "cell_type": "markdown",
   "id": "586bc20c-278e-4668-b45f-f3b70c08304f",
   "metadata": {},
   "source": [
    "**kwargs are used to pass key-value pairs to functions that return data as a dictionary format."
   ]
  },
  {
   "cell_type": "code",
   "execution_count": 38,
   "id": "78572722-a24d-4799-b278-371108497ec0",
   "metadata": {},
   "outputs": [
    {
     "data": {
      "text/plain": [
       "18"
      ]
     },
     "execution_count": 38,
     "metadata": {},
     "output_type": "execute_result"
    }
   ],
   "source": [
    "def fruits(**fruits) :\n",
    "    total = 0\n",
    "    for i in fruits.values() :\n",
    "        total += i\n",
    "    return total\n",
    "\n",
    "fruits(banana = 5, mango = 6, apple = 7)"
   ]
  },
  {
   "cell_type": "markdown",
   "id": "b9df9f94-2ac2-4b60-89ca-8612161e1d63",
   "metadata": {},
   "source": [
    "3. What is an iterator in python? Name the method used to initialise the iterator object and the method\n",
    "used for iteration. Use these methods to print the first five elements of the given list \n",
    "\n",
    "[2, 4, 6, 8, 10, 12, 14, 16, 18, 20]."
   ]
  },
  {
   "cell_type": "markdown",
   "id": "e45e286c-4086-411c-ae08-a90ca0f65bdc",
   "metadata": {},
   "source": [
    "Ans : \n",
    "\n",
    "In Python, Iterator works to extract the data stored in variables one by one as the loop is executed. Iter() method is used to initialize the iterator object and next() method used for iteration."
   ]
  },
  {
   "cell_type": "code",
   "execution_count": 18,
   "id": "3ce7bc48-45b7-4ba8-a415-846636cf8b7a",
   "metadata": {},
   "outputs": [
    {
     "name": "stdout",
     "output_type": "stream",
     "text": [
      "2 4 6 8 10\n"
     ]
    }
   ],
   "source": [
    "# For Example,\n",
    "l = [2, 4, 6, 8, 10, 12, 14, 16, 18, 20]\n",
    "\n",
    "convert_iter = iter(l)\n",
    "\n",
    "print(next(convert_iter) , next(convert_iter) , next(convert_iter) , next(convert_iter) , next(convert_iter))"
   ]
  },
  {
   "cell_type": "markdown",
   "id": "6fcaa7c6-1cd3-4502-84d0-9d7d754f6469",
   "metadata": {},
   "source": [
    "4. What is a generator function in python? Why yield keyword is used? Give an example of a generator function."
   ]
  },
  {
   "cell_type": "markdown",
   "id": "fb50e5f6-4211-433f-b636-753c08e7fe89",
   "metadata": {},
   "source": [
    "Ans : \n",
    "\n",
    "A generator function allows data to be extracted from the object one by one. The yield keyword is used to generate a large sequence of values as it gives an immediate output by iterating over the data."
   ]
  },
  {
   "cell_type": "code",
   "execution_count": 41,
   "id": "e4c85b4c-f698-452b-ba2d-c778f874300d",
   "metadata": {},
   "outputs": [
    {
     "data": {
      "text/plain": [
       "[1, 2, 3, 'sanoj', 'prakash', 5.6, 7.89]"
      ]
     },
     "execution_count": 41,
     "metadata": {},
     "output_type": "execute_result"
    }
   ],
   "source": [
    "# Generator Function Example,\n",
    "\n",
    "def abc () :\n",
    "    l = [1,2,3, 'sanoj', 'prakash', 5.6, 7.89]\n",
    "    for i in l :\n",
    "            yield i\n",
    "list(abc())"
   ]
  },
  {
   "cell_type": "markdown",
   "id": "cf92c472-587e-4add-b888-369f2f6db549",
   "metadata": {},
   "source": [
    "5. Create a generator function for prime numbers less than 1000. Use the next() method to print the first 20 prime numbers."
   ]
  },
  {
   "cell_type": "code",
   "execution_count": 47,
   "id": "5056ad4e-cbf6-4e0b-9b0f-6fd6d3eeabba",
   "metadata": {},
   "outputs": [
    {
     "name": "stdout",
     "output_type": "stream",
     "text": [
      "2 3 5 7 11 13 17 19 23 29 31 37 41 43 47 53 59 61 67 71\n"
     ]
    }
   ],
   "source": [
    "def isprime(num) :\n",
    "    for i in range(2,num) :\n",
    "        if num%i == 0 :\n",
    "            return False\n",
    "    return True\n",
    "\n",
    "def primeGenerator(n) :\n",
    "    num = 2\n",
    "    while n > 0 :\n",
    "        if isprime(num) :\n",
    "            yield num\n",
    "            n-= 1\n",
    "        num+= 1 \n",
    "    return   \n",
    "        \n",
    "a = primeGenerator(20)\n",
    "print(next(a), next(a), next(a), next(a), next(a), next(a), next(a), next(a), next(a), next(a), next(a), next(a), next(a), next(a), next(a), next(a), next(a), next(a), next(a), next(a))"
   ]
  },
  {
   "cell_type": "markdown",
   "id": "9e9b54f1-b727-41a4-b7ce-0aca4c10d128",
   "metadata": {},
   "source": [
    "6. Write a python program to print the first 10 Fibonacci numbers using a while loop"
   ]
  },
  {
   "cell_type": "code",
   "execution_count": 47,
   "id": "ca98b604-c871-43e3-8e5d-9547330f2b86",
   "metadata": {},
   "outputs": [
    {
     "name": "stdout",
     "output_type": "stream",
     "text": [
      "0\n",
      "1\n",
      "1\n",
      "2\n",
      "3\n",
      "5\n",
      "8\n",
      "13\n",
      "21\n",
      "34\n"
     ]
    }
   ],
   "source": [
    "first_num = 0\n",
    "second_num = 1\n",
    "counter = 0\n",
    "\n",
    "while counter < 10 :\n",
    "    if counter <= 1 :\n",
    "        next_num = counter\n",
    "    else :\n",
    "        next_num = first_num + second_num\n",
    "        first_num = second_num\n",
    "        second_num = next_num\n",
    "    print(next_num)\n",
    "    counter = counter + 1  "
   ]
  },
  {
   "cell_type": "markdown",
   "id": "dd8ba167-f501-43dd-ad20-018190dc4f2a",
   "metadata": {},
   "source": [
    "7. Write a List Comprehension to iterate through the given string: ‘pwskills’.\n",
    "\n",
    "    Expected output: ['p', 'w', 's', 'k', 'i', 'l', 'l', 's']"
   ]
  },
  {
   "cell_type": "code",
   "execution_count": 48,
   "id": "5aaee177-e173-435e-97af-5aed84cffd3f",
   "metadata": {},
   "outputs": [
    {
     "data": {
      "text/plain": [
       "['p', 'w', 's', 'k', 'i', 'l', 'l', 's']"
      ]
     },
     "execution_count": 48,
     "metadata": {},
     "output_type": "execute_result"
    }
   ],
   "source": [
    "s = 'pwskills'\n",
    "\n",
    "[i for i in s]"
   ]
  },
  {
   "cell_type": "markdown",
   "id": "c4558951-f4d2-4f27-b596-36864c49bb98",
   "metadata": {},
   "source": [
    "8. Write a python program to check whether a given number is Palindrome or not using a while loop."
   ]
  },
  {
   "cell_type": "code",
   "execution_count": 49,
   "id": "39dd037f-8651-4d97-b6c0-c6492e23a954",
   "metadata": {},
   "outputs": [
    {
     "name": "stdin",
     "output_type": "stream",
     "text": [
      "enter your number 525\n"
     ]
    },
    {
     "name": "stdout",
     "output_type": "stream",
     "text": [
      "It is a palindrome\n"
     ]
    }
   ],
   "source": [
    "num = int(input(\"enter your number\"))\n",
    "\n",
    "temp_num = num\n",
    "rev_num = 0\n",
    "\n",
    "while num > 0 :\n",
    "    last_digit = num % 10\n",
    "    rev_num = rev_num*10 + last_digit\n",
    "    num = num//10\n",
    "    \n",
    "if temp_num == rev_num :\n",
    "    print('It is a palindrome')\n",
    "    \n",
    "else :\n",
    "    print('it is not a palindrome')"
   ]
  },
  {
   "cell_type": "markdown",
   "id": "2cb1a6f0-bce7-4edf-b042-31406a48c55d",
   "metadata": {},
   "source": [
    "9. Write a code to print odd numbers from 1 to 100 using list comprehension."
   ]
  },
  {
   "cell_type": "code",
   "execution_count": 33,
   "id": "d99a3dc3-920e-4c2b-9e97-e68ef34f74cd",
   "metadata": {},
   "outputs": [
    {
     "data": {
      "text/plain": [
       "[1,\n",
       " 3,\n",
       " 5,\n",
       " 7,\n",
       " 9,\n",
       " 11,\n",
       " 13,\n",
       " 15,\n",
       " 17,\n",
       " 19,\n",
       " 21,\n",
       " 23,\n",
       " 25,\n",
       " 27,\n",
       " 29,\n",
       " 31,\n",
       " 33,\n",
       " 35,\n",
       " 37,\n",
       " 39,\n",
       " 41,\n",
       " 43,\n",
       " 45,\n",
       " 47,\n",
       " 49,\n",
       " 51,\n",
       " 53,\n",
       " 55,\n",
       " 57,\n",
       " 59,\n",
       " 61,\n",
       " 63,\n",
       " 65,\n",
       " 67,\n",
       " 69,\n",
       " 71,\n",
       " 73,\n",
       " 75,\n",
       " 77,\n",
       " 79,\n",
       " 81,\n",
       " 83,\n",
       " 85,\n",
       " 87,\n",
       " 89,\n",
       " 91,\n",
       " 93,\n",
       " 95,\n",
       " 97,\n",
       " 99]"
      ]
     },
     "execution_count": 33,
     "metadata": {},
     "output_type": "execute_result"
    }
   ],
   "source": [
    "l = range(1,100)\n",
    "\n",
    "[i for i in l if i % 2 != 0]"
   ]
  },
  {
   "cell_type": "code",
   "execution_count": null,
   "id": "e899aa50-2750-4bf2-b88e-b7a9c6fd9ec9",
   "metadata": {},
   "outputs": [],
   "source": []
  }
 ],
 "metadata": {
  "kernelspec": {
   "display_name": "Python 3 (ipykernel)",
   "language": "python",
   "name": "python3"
  },
  "language_info": {
   "codemirror_mode": {
    "name": "ipython",
    "version": 3
   },
   "file_extension": ".py",
   "mimetype": "text/x-python",
   "name": "python",
   "nbconvert_exporter": "python",
   "pygments_lexer": "ipython3",
   "version": "3.10.8"
  }
 },
 "nbformat": 4,
 "nbformat_minor": 5
}
